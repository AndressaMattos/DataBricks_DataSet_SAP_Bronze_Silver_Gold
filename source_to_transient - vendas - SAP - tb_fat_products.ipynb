{
 "cells": [
  {
   "cell_type": "markdown",
   "metadata": {
    "application/vnd.databricks.v1+cell": {
     "cellMetadata": {
      "byteLimit": 2048000,
      "rowLimit": 10000
     },
     "inputWidgets": {},
     "nuid": "db34519e-0767-4bdc-9417-58b1a73a23dd",
     "showTitle": false,
     "title": ""
    }
   },
   "source": [
    "SAP \n",
    "Addresses\n",
    "BusinessPartners\n",
    "ProductCategories\n",
    "ProductCategoryText\n",
    "Products\n",
    "ProductTexts\n",
    "SalesOrderItems\n",
    "SalesOrders_dsp1\n",
    "SalesOrders"
   ]
  },
  {
   "cell_type": "code",
   "execution_count": 0,
   "metadata": {
    "application/vnd.databricks.v1+cell": {
     "cellMetadata": {
      "byteLimit": 2048000,
      "rowLimit": 10000
     },
     "inputWidgets": {},
     "nuid": "14dc5172-4fcb-4dc8-900d-4f5162ac7c15",
     "showTitle": false,
     "title": ""
    }
   },
   "outputs": [
    {
     "output_type": "stream",
     "name": "stdout",
     "output_type": "stream",
     "text": [
      "Python interpreter will be restarted.\nCollecting great-expectations==0.18.21\n  Using cached great_expectations-0.18.21-py3-none-any.whl (5.4 MB)\nRequirement already satisfied: python-dateutil>=2.8.1 in /databricks/python3/lib/python3.9/site-packages (from great-expectations==0.18.21) (2.8.2)\nCollecting tqdm>=4.59.0\n  Using cached tqdm-4.66.5-py3-none-any.whl (78 kB)\nRequirement already satisfied: ipywidgets>=7.5.1 in /databricks/python3/lib/python3.9/site-packages (from great-expectations==0.18.21) (7.7.2)\nRequirement already satisfied: mistune>=0.8.4 in /databricks/python3/lib/python3.9/site-packages (from great-expectations==0.18.21) (0.8.4)\nRequirement already satisfied: pandas>=1.1.3 in /databricks/python3/lib/python3.9/site-packages (from great-expectations==0.18.21) (1.4.2)\nCollecting notebook>=6.4.10\n  Using cached notebook-7.2.2-py3-none-any.whl (5.0 MB)\nRequirement already satisfied: scipy>=1.6.0 in /databricks/python3/lib/python3.9/site-packages (from great-expectations==0.18.21) (1.7.3)\nRequirement already satisfied: pyparsing>=2.4 in /databricks/python3/lib/python3.9/site-packages (from great-expectations==0.18.21) (3.0.4)\nCollecting ruamel.yaml<0.18,>=0.16\n  Using cached ruamel.yaml-0.17.40-py3-none-any.whl (113 kB)\nRequirement already satisfied: Ipython>=7.16.3 in /databricks/python3/lib/python3.9/site-packages (from great-expectations==0.18.21) (8.5.0)\nRequirement already satisfied: Click>=7.1.2 in /databricks/python3/lib/python3.9/site-packages (from great-expectations==0.18.21) (8.0.4)\nCollecting marshmallow<4.0.0,>=3.7.1\n  Using cached marshmallow-3.22.0-py3-none-any.whl (49 kB)\nRequirement already satisfied: jsonschema>=2.5.1 in /databricks/python3/lib/python3.9/site-packages (from great-expectations==0.18.21) (4.4.0)\nCollecting numpy<2.0.0,>=1.21.6\n  Using cached numpy-1.26.4-cp39-cp39-manylinux_2_17_x86_64.manylinux2014_x86_64.whl (18.2 MB)\nCollecting colorama>=0.4.3\n  Using cached colorama-0.4.6-py2.py3-none-any.whl (25 kB)\nRequirement already satisfied: urllib3>=1.26 in /databricks/python3/lib/python3.9/site-packages (from great-expectations==0.18.21) (1.26.9)\nRequirement already satisfied: requests>=2.20 in /databricks/python3/lib/python3.9/site-packages (from great-expectations==0.18.21) (2.27.1)\nRequirement already satisfied: pytz>=2021.3 in /databricks/python3/lib/python3.9/site-packages (from great-expectations==0.18.21) (2021.3)\nCollecting tzlocal>=1.2\n  Using cached tzlocal-5.2-py3-none-any.whl (17 kB)\nRequirement already satisfied: jinja2>=2.10 in /databricks/python3/lib/python3.9/site-packages (from great-expectations==0.18.21) (2.11.3)\nCollecting jsonpatch>=1.22\n  Using cached jsonpatch-1.33-py2.py3-none-any.whl (12 kB)\nRequirement already satisfied: packaging in /databricks/python3/lib/python3.9/site-packages (from great-expectations==0.18.21) (21.3)\nRequirement already satisfied: nbformat>=5.0 in /databricks/python3/lib/python3.9/site-packages (from great-expectations==0.18.21) (5.3.0)\nCollecting makefun<2,>=1.7.0\n  Using cached makefun-1.15.6-py2.py3-none-any.whl (22 kB)\nCollecting altair<5.0.0,>=4.2.1\n  Using cached altair-4.2.2-py3-none-any.whl (813 kB)\nCollecting pydantic>=1.9.2\n  Using cached pydantic-2.9.2-py3-none-any.whl (434 kB)\nRequirement already satisfied: cryptography>=3.2 in /databricks/python3/lib/python3.9/site-packages (from great-expectations==0.18.21) (3.4.8)\nRequirement already satisfied: typing-extensions>=3.10.0.0 in /databricks/python3/lib/python3.9/site-packages (from great-expectations==0.18.21) (4.1.1)\nCollecting toolz\n  Using cached toolz-0.12.1-py3-none-any.whl (56 kB)\nRequirement already satisfied: entrypoints in /databricks/python3/lib/python3.9/site-packages (from altair<5.0.0,>=4.2.1->great-expectations==0.18.21) (0.4)\nRequirement already satisfied: cffi>=1.12 in /databricks/python3/lib/python3.9/site-packages (from cryptography>=3.2->great-expectations==0.18.21) (1.15.0)\nRequirement already satisfied: pycparser in /databricks/python3/lib/python3.9/site-packages (from cffi>=1.12->cryptography>=3.2->great-expectations==0.18.21) (2.21)\nRequirement already satisfied: jedi>=0.16 in /databricks/python3/lib/python3.9/site-packages (from Ipython>=7.16.3->great-expectations==0.18.21) (0.18.1)\nRequirement already satisfied: backcall in /databricks/python3/lib/python3.9/site-packages (from Ipython>=7.16.3->great-expectations==0.18.21) (0.2.0)\nRequirement already satisfied: matplotlib-inline in /databricks/python3/lib/python3.9/site-packages (from Ipython>=7.16.3->great-expectations==0.18.21) (0.1.2)\nRequirement already satisfied: pygments>=2.4.0 in /databricks/python3/lib/python3.9/site-packages (from Ipython>=7.16.3->great-expectations==0.18.21) (2.11.2)\nRequirement already satisfied: decorator in /databricks/python3/lib/python3.9/site-packages (from Ipython>=7.16.3->great-expectations==0.18.21) (5.1.1)\nRequirement already satisfied: traitlets>=5 in /databricks/python3/lib/python3.9/site-packages (from Ipython>=7.16.3->great-expectations==0.18.21) (5.1.1)\nRequirement already satisfied: prompt-toolkit<3.1.0,>3.0.1 in /databricks/python3/lib/python3.9/site-packages (from Ipython>=7.16.3->great-expectations==0.18.21) (3.0.20)\nRequirement already satisfied: stack-data in /databricks/python3/lib/python3.9/site-packages (from Ipython>=7.16.3->great-expectations==0.18.21) (0.2.0)\nRequirement already satisfied: pickleshare in /databricks/python3/lib/python3.9/site-packages (from Ipython>=7.16.3->great-expectations==0.18.21) (0.7.5)\nRequirement already satisfied: pexpect>4.3 in /databricks/python3/lib/python3.9/site-packages (from Ipython>=7.16.3->great-expectations==0.18.21) (4.8.0)\nRequirement already satisfied: ipython-genutils~=0.2.0 in /databricks/python3/lib/python3.9/site-packages (from ipywidgets>=7.5.1->great-expectations==0.18.21) (0.2.0)\nRequirement already satisfied: ipykernel>=4.5.1 in /databricks/python3/lib/python3.9/site-packages (from ipywidgets>=7.5.1->great-expectations==0.18.21) (6.15.3)\nRequirement already satisfied: jupyterlab-widgets<3,>=1.0.0 in /databricks/python3/lib/python3.9/site-packages (from ipywidgets>=7.5.1->great-expectations==0.18.21) (1.0.0)\nRequirement already satisfied: widgetsnbextension~=3.6.0 in /databricks/python3/lib/python3.9/site-packages (from ipywidgets>=7.5.1->great-expectations==0.18.21) (3.6.1)\nRequirement already satisfied: jupyter-client>=6.1.12 in /databricks/python3/lib/python3.9/site-packages (from ipykernel>=4.5.1->ipywidgets>=7.5.1->great-expectations==0.18.21) (6.1.12)\nRequirement already satisfied: tornado>=6.1 in /databricks/python3/lib/python3.9/site-packages (from ipykernel>=4.5.1->ipywidgets>=7.5.1->great-expectations==0.18.21) (6.1)\nRequirement already satisfied: debugpy>=1.0 in /databricks/python3/lib/python3.9/site-packages (from ipykernel>=4.5.1->ipywidgets>=7.5.1->great-expectations==0.18.21) (1.5.1)\nRequirement already satisfied: pyzmq>=17 in /databricks/python3/lib/python3.9/site-packages (from ipykernel>=4.5.1->ipywidgets>=7.5.1->great-expectations==0.18.21) (22.3.0)\nRequirement already satisfied: psutil in /databricks/python3/lib/python3.9/site-packages (from ipykernel>=4.5.1->ipywidgets>=7.5.1->great-expectations==0.18.21) (5.8.0)\nRequirement already satisfied: nest-asyncio in /databricks/python3/lib/python3.9/site-packages (from ipykernel>=4.5.1->ipywidgets>=7.5.1->great-expectations==0.18.21) (1.5.5)\nRequirement already satisfied: parso<0.9.0,>=0.8.0 in /databricks/python3/lib/python3.9/site-packages (from jedi>=0.16->Ipython>=7.16.3->great-expectations==0.18.21) (0.8.3)\nRequirement already satisfied: MarkupSafe>=0.23 in /databricks/python3/lib/python3.9/site-packages (from jinja2>=2.10->great-expectations==0.18.21) (2.0.1)\nCollecting jsonpointer>=1.9\n  Using cached jsonpointer-3.0.0-py2.py3-none-any.whl (7.6 kB)\nRequirement already satisfied: attrs>=17.4.0 in /databricks/python3/lib/python3.9/site-packages (from jsonschema>=2.5.1->great-expectations==0.18.21) (21.4.0)\nRequirement already satisfied: pyrsistent!=0.17.0,!=0.17.1,!=0.17.2,>=0.14.0 in /databricks/python3/lib/python3.9/site-packages (from jsonschema>=2.5.1->great-expectations==0.18.21) (0.18.0)\nRequirement already satisfied: jupyter-core>=4.6.0 in /databricks/python3/lib/python3.9/site-packages (from jupyter-client>=6.1.12->ipykernel>=4.5.1->ipywidgets>=7.5.1->great-expectations==0.18.21) (4.11.2)\nRequirement already satisfied: fastjsonschema in /databricks/python3/lib/python3.9/site-packages (from nbformat>=5.0->great-expectations==0.18.21) (2.16.2)\nCollecting notebook-shim<0.3,>=0.2\n  Using cached notebook_shim-0.2.4-py3-none-any.whl (13 kB)\nCollecting tornado>=6.1\n  Using cached tornado-6.4.1-cp38-abi3-manylinux_2_5_x86_64.manylinux1_x86_64.manylinux_2_17_x86_64.manylinux2014_x86_64.whl (436 kB)\nCollecting jupyterlab-server<3,>=2.27.1\n  Using cached jupyterlab_server-2.27.3-py3-none-any.whl (59 kB)\nCollecting jupyter-server<3,>=2.4.0\n  Using cached jupyter_server-2.14.2-py3-none-any.whl (383 kB)\nCollecting jupyterlab<4.3,>=4.2.0\n  Using cached jupyterlab-4.2.5-py3-none-any.whl (11.6 MB)\nCollecting jinja2>=2.10\n  Using cached jinja2-3.1.4-py3-none-any.whl (133 kB)\nCollecting overrides>=5.0\n  Using cached overrides-7.7.0-py3-none-any.whl (17 kB)\nCollecting anyio>=3.1.0\n  Using cached anyio-4.6.0-py3-none-any.whl (89 kB)\nCollecting jupyter-events>=0.9.0\n  Using cached jupyter_events-0.10.0-py3-none-any.whl (18 kB)\nCollecting jupyter-client>=6.1.12\n  Using cached jupyter_client-8.6.3-py3-none-any.whl (106 kB)\nCollecting websocket-client>=1.7\n  Using cached websocket_client-1.8.0-py3-none-any.whl (58 kB)\nRequirement already satisfied: nbconvert>=6.4.4 in /databricks/python3/lib/python3.9/site-packages (from jupyter-server<3,>=2.4.0->notebook>=6.4.10->great-expectations==0.18.21) (6.4.4)\nCollecting send2trash>=1.8.2\n  Using cached Send2Trash-1.8.3-py3-none-any.whl (18 kB)\nCollecting pyzmq>=17\n  Using cached pyzmq-26.2.0-cp39-cp39-manylinux_2_12_x86_64.manylinux2010_x86_64.whl (862 kB)\nRequirement already satisfied: argon2-cffi>=21.1 in /databricks/python3/lib/python3.9/site-packages (from jupyter-server<3,>=2.4.0->notebook>=6.4.10->great-expectations==0.18.21) (21.3.0)\nCollecting jupyter-core>=4.6.0\n  Using cached jupyter_core-5.7.2-py3-none-any.whl (28 kB)\nRequirement already satisfied: terminado>=0.8.3 in /databricks/python3/lib/python3.9/site-packages (from jupyter-server<3,>=2.4.0->notebook>=6.4.10->great-expectations==0.18.21) (0.13.1)\nCollecting traitlets>=5\n  Using cached traitlets-5.14.3-py3-none-any.whl (85 kB)\nCollecting packaging\n  Using cached packaging-24.1-py3-none-any.whl (53 kB)\nRequirement already satisfied: prometheus-client>=0.9 in /databricks/python3/lib/python3.9/site-packages (from jupyter-server<3,>=2.4.0->notebook>=6.4.10->great-expectations==0.18.21) (0.13.1)\nCollecting jupyter-server-terminals>=0.4.4\n  Using cached jupyter_server_terminals-0.5.3-py3-none-any.whl (13 kB)\nCollecting sniffio>=1.1\n  Using cached sniffio-1.3.1-py3-none-any.whl (10 kB)\nRequirement already satisfied: idna>=2.8 in /databricks/python3/lib/python3.9/site-packages (from anyio>=3.1.0->jupyter-server<3,>=2.4.0->notebook>=6.4.10->great-expectations==0.18.21) (3.3)\nCollecting exceptiongroup>=1.0.2\n  Using cached exceptiongroup-1.2.2-py3-none-any.whl (16 kB)\nRequirement already satisfied: argon2-cffi-bindings in /databricks/python3/lib/python3.9/site-packages (from argon2-cffi>=21.1->jupyter-server<3,>=2.4.0->notebook>=6.4.10->great-expectations==0.18.21) (21.2.0)\nCollecting importlib-metadata>=4.8.3\n  Using cached importlib_metadata-8.5.0-py3-none-any.whl (26 kB)\nCollecting zipp>=3.20\n  Using cached zipp-3.20.2-py3-none-any.whl (9.2 kB)\nRequirement already satisfied: platformdirs>=2.5 in /usr/local/lib/python3.9/dist-packages (from jupyter-core>=4.6.0->jupyter-client>=6.1.12->ipykernel>=4.5.1->ipywidgets>=7.5.1->great-expectations==0.18.21) (2.6.2)\nCollecting rfc3986-validator>=0.1.1\n  Using cached rfc3986_validator-0.1.1-py2.py3-none-any.whl (4.2 kB)\nCollecting jsonschema[format-nongpl]>=4.18.0\n  Using cached jsonschema-4.23.0-py3-none-any.whl (88 kB)\nCollecting rfc3339-validator\n  Using cached rfc3339_validator-0.1.4-py2.py3-none-any.whl (3.5 kB)\nCollecting python-json-logger>=2.0.4\n  Using cached python_json_logger-2.0.7-py3-none-any.whl (8.1 kB)\nCollecting pyyaml>=5.3\n  Using cached PyYAML-6.0.2-cp39-cp39-manylinux_2_17_x86_64.manylinux2014_x86_64.whl (737 kB)\nCollecting referencing\n  Using cached referencing-0.35.1-py3-none-any.whl (26 kB)\nCollecting attrs>=17.4.0\n  Using cached attrs-24.2.0-py3-none-any.whl (63 kB)\nCollecting rpds-py>=0.7.1\n  Using cached rpds_py-0.20.0-cp39-cp39-manylinux_2_17_x86_64.manylinux2014_x86_64.whl (355 kB)\nCollecting jsonschema-specifications>=2023.03.6\n  Using cached jsonschema_specifications-2023.12.1-py3-none-any.whl (18 kB)\nCollecting webcolors>=24.6.0\n  Using cached webcolors-24.8.0-py3-none-any.whl (15 kB)\nCollecting fqdn\n  Using cached fqdn-1.5.1-py3-none-any.whl (9.1 kB)\nCollecting isoduration\n  Using cached isoduration-20.11.0-py3-none-any.whl (11 kB)\nCollecting uri-template\n  Using cached uri_template-1.3.0-py3-none-any.whl (11 kB)\nRequirement already satisfied: setuptools>=40.1.0 in /databricks/python3/lib/python3.9/site-packages (from jupyterlab<4.3,>=4.2.0->notebook>=6.4.10->great-expectations==0.18.21) (61.2.0)\nRequirement already satisfied: tomli>=1.2.2 in /databricks/python3/lib/python3.9/site-packages (from jupyterlab<4.3,>=4.2.0->notebook>=6.4.10->great-expectations==0.18.21) (1.2.2)\nCollecting httpx>=0.25.0\n  Using cached httpx-0.27.2-py3-none-any.whl (76 kB)\nCollecting jupyter-lsp>=2.0.0\n  Using cached jupyter_lsp-2.2.5-py3-none-any.whl (69 kB)\nCollecting async-lru>=1.0.0\n  Using cached async_lru-2.0.4-py3-none-any.whl (6.1 kB)\nCollecting httpcore==1.*\n  Using cached httpcore-1.0.5-py3-none-any.whl (77 kB)\nRequirement already satisfied: certifi in /databricks/python3/lib/python3.9/site-packages (from httpx>=0.25.0->jupyterlab<4.3,>=4.2.0->notebook>=6.4.10->great-expectations==0.18.21) (2021.10.8)\nCollecting h11<0.15,>=0.13\n  Using cached h11-0.14.0-py3-none-any.whl (58 kB)\nCollecting requests>=2.20\n  Using cached requests-2.32.3-py3-none-any.whl (64 kB)\nCollecting babel>=2.10\n  Using cached babel-2.16.0-py3-none-any.whl (9.6 MB)\nCollecting json5>=0.9.0\n  Using cached json5-0.9.25-py3-none-any.whl (30 kB)\nRequirement already satisfied: bleach in /databricks/python3/lib/python3.9/site-packages (from nbconvert>=6.4.4->jupyter-server<3,>=2.4.0->notebook>=6.4.10->great-expectations==0.18.21) (4.1.0)\nRequirement already satisfied: testpath in /databricks/python3/lib/python3.9/site-packages (from nbconvert>=6.4.4->jupyter-server<3,>=2.4.0->notebook>=6.4.10->great-expectations==0.18.21) (0.5.0)\nRequirement already satisfied: pandocfilters>=1.4.1 in /databricks/python3/lib/python3.9/site-packages (from nbconvert>=6.4.4->jupyter-server<3,>=2.4.0->notebook>=6.4.10->great-expectations==0.18.21) (1.5.0)\nRequirement already satisfied: defusedxml in /databricks/python3/lib/python3.9/site-packages (from nbconvert>=6.4.4->jupyter-server<3,>=2.4.0->notebook>=6.4.10->great-expectations==0.18.21) (0.7.1)\nRequirement already satisfied: nbclient<0.6.0,>=0.5.0 in /databricks/python3/lib/python3.9/site-packages (from nbconvert>=6.4.4->jupyter-server<3,>=2.4.0->notebook>=6.4.10->great-expectations==0.18.21) (0.5.13)\nRequirement already satisfied: beautifulsoup4 in /databricks/python3/lib/python3.9/site-packages (from nbconvert>=6.4.4->jupyter-server<3,>=2.4.0->notebook>=6.4.10->great-expectations==0.18.21) (4.11.1)\nRequirement already satisfied: jupyterlab-pygments in /databricks/python3/lib/python3.9/site-packages (from nbconvert>=6.4.4->jupyter-server<3,>=2.4.0->notebook>=6.4.10->great-expectations==0.18.21) (0.1.2)\nRequirement already satisfied: ptyprocess>=0.5 in /databricks/python3/lib/python3.9/site-packages (from pexpect>4.3->Ipython>=7.16.3->great-expectations==0.18.21) (0.7.0)\nRequirement already satisfied: wcwidth in /databricks/python3/lib/python3.9/site-packages (from prompt-toolkit<3.1.0,>3.0.1->Ipython>=7.16.3->great-expectations==0.18.21) (0.2.5)\nCollecting annotated-types>=0.6.0\n  Using cached annotated_types-0.7.0-py3-none-any.whl (13 kB)\nCollecting pydantic-core==2.23.4\n  Using cached pydantic_core-2.23.4-cp39-cp39-manylinux_2_17_x86_64.manylinux2014_x86_64.whl (2.1 MB)\nCollecting typing-extensions>=3.10.0.0\n  Using cached typing_extensions-4.12.2-py3-none-any.whl (37 kB)\nRequirement already satisfied: six>=1.5 in /databricks/python3/lib/python3.9/site-packages (from python-dateutil>=2.8.1->great-expectations==0.18.21) (1.16.0)\nRequirement already satisfied: charset-normalizer<4,>=2 in /databricks/python3/lib/python3.9/site-packages (from requests>=2.20->great-expectations==0.18.21) (2.0.4)\nCollecting ruamel.yaml.clib>=0.2.7\n  Using cached ruamel.yaml.clib-0.2.8-cp39-cp39-manylinux_2_5_x86_64.manylinux1_x86_64.whl (562 kB)\nCollecting numpy<2.0.0,>=1.21.6\n  Using cached numpy-1.22.4-cp39-cp39-manylinux_2_17_x86_64.manylinux2014_x86_64.whl (16.8 MB)\nRequirement already satisfied: soupsieve>1.2 in /databricks/python3/lib/python3.9/site-packages (from beautifulsoup4->nbconvert>=6.4.4->jupyter-server<3,>=2.4.0->notebook>=6.4.10->great-expectations==0.18.21) (2.3.1)\nRequirement already satisfied: webencodings in /databricks/python3/lib/python3.9/site-packages (from bleach->nbconvert>=6.4.4->jupyter-server<3,>=2.4.0->notebook>=6.4.10->great-expectations==0.18.21) (0.5.1)\nCollecting arrow>=0.15.0\n  Using cached arrow-1.3.0-py3-none-any.whl (66 kB)\nCollecting types-python-dateutil>=2.8.10\n  Using cached types_python_dateutil-2.9.0.20240906-py3-none-any.whl (9.7 kB)\nRequirement already satisfied: executing in /databricks/python3/lib/python3.9/site-packages (from stack-data->Ipython>=7.16.3->great-expectations==0.18.21) (0.8.3)\nRequirement already satisfied: pure-eval in /databricks/python3/lib/python3.9/site-packages (from stack-data->Ipython>=7.16.3->great-expectations==0.18.21) (0.2.2)\nRequirement already satisfied: asttokens in /databricks/python3/lib/python3.9/site-packages (from stack-data->Ipython>=7.16.3->great-expectations==0.18.21) (2.0.5)\nInstalling collected packages: rpds-py, attrs, referencing, zipp, types-python-dateutil, traitlets, jsonschema-specifications, tornado, pyzmq, jupyter-core, jsonschema, importlib-metadata, arrow, webcolors, uri-template, rfc3986-validator, rfc3339-validator, packaging, jupyter-client, jsonpointer, isoduration, fqdn, typing-extensions, sniffio, pyyaml, python-json-logger, jinja2, exceptiongroup, websocket-client, send2trash, overrides, jupyter-server-terminals, jupyter-events, h11, anyio, requests, jupyter-server, json5, httpcore, babel, notebook-shim, jupyterlab-server, jupyter-lsp, httpx, async-lru, jupyterlab, numpy, notebook, toolz, ruamel.yaml.clib, pydantic-core, annotated-types, tzlocal, tqdm, ruamel.yaml, pydantic, marshmallow, makefun, jsonpatch, colorama, altair, great-expectations\n  Attempting uninstall: attrs\n    Found existing installation: attrs 21.4.0\n    Not uninstalling attrs at /databricks/python3/lib/python3.9/site-packages, outside environment /local_disk0/.ephemeral_nfs/envs/pythonEnv-06d6118a-388a-4908-9493-96c23eb48303\n    Can't uninstall 'attrs'. No files were found to uninstall.\n  Attempting uninstall: traitlets\n    Found existing installation: traitlets 5.1.1\n    Not uninstalling traitlets at /databricks/python3/lib/python3.9/site-packages, outside environment /local_disk0/.ephemeral_nfs/envs/pythonEnv-06d6118a-388a-4908-9493-96c23eb48303\n    Can't uninstall 'traitlets'. No files were found to uninstall.\n  Attempting uninstall: tornado\n    Found existing installation: tornado 6.1\n    Not uninstalling tornado at /databricks/python3/lib/python3.9/site-packages, outside environment /local_disk0/.ephemeral_nfs/envs/pythonEnv-06d6118a-388a-4908-9493-96c23eb48303\n    Can't uninstall 'tornado'. No files were found to uninstall.\n  Attempting uninstall: pyzmq\n    Found existing installation: pyzmq 22.3.0\n    Not uninstalling pyzmq at /databricks/python3/lib/python3.9/site-packages, outside environment /local_disk0/.ephemeral_nfs/envs/pythonEnv-06d6118a-388a-4908-9493-96c23eb48303\n    Can't uninstall 'pyzmq'. No files were found to uninstall.\n  Attempting uninstall: jupyter-core\n    Found existing installation: jupyter-core 4.11.2\n    Not uninstalling jupyter-core at /databricks/python3/lib/python3.9/site-packages, outside environment /local_disk0/.ephemeral_nfs/envs/pythonEnv-06d6118a-388a-4908-9493-96c23eb48303\n    Can't uninstall 'jupyter-core'. No files were found to uninstall.\n  Attempting uninstall: jsonschema\n    Found existing installation: jsonschema 4.4.0\n    Not uninstalling jsonschema at /databricks/python3/lib/python3.9/site-packages, outside environment /local_disk0/.ephemeral_nfs/envs/pythonEnv-06d6118a-388a-4908-9493-96c23eb48303\n    Can't uninstall 'jsonschema'. No files were found to uninstall.\n  Attempting uninstall: packaging\n    Found existing installation: packaging 21.3\n    Not uninstalling packaging at /databricks/python3/lib/python3.9/site-packages, outside environment /local_disk0/.ephemeral_nfs/envs/pythonEnv-06d6118a-388a-4908-9493-96c23eb48303\n    Can't uninstall 'packaging'. No files were found to uninstall.\n  Attempting uninstall: jupyter-client\n    Found existing installation: jupyter-client 6.1.12\n    Not uninstalling jupyter-client at /databricks/python3/lib/python3.9/site-packages, outside environment /local_disk0/.ephemeral_nfs/envs/pythonEnv-06d6118a-388a-4908-9493-96c23eb48303\n    Can't uninstall 'jupyter-client'. No files were found to uninstall.\n  Attempting uninstall: typing-extensions\n    Found existing installation: typing-extensions 4.1.1\n    Not uninstalling typing-extensions at /databricks/python3/lib/python3.9/site-packages, outside environment /local_disk0/.ephemeral_nfs/envs/pythonEnv-06d6118a-388a-4908-9493-96c23eb48303\n    Can't uninstall 'typing-extensions'. No files were found to uninstall.\n  Attempting uninstall: jinja2\n    Found existing installation: Jinja2 2.11.3\n    Not uninstalling jinja2 at /databricks/python3/lib/python3.9/site-packages, outside environment /local_disk0/.ephemeral_nfs/envs/pythonEnv-06d6118a-388a-4908-9493-96c23eb48303\n    Can't uninstall 'Jinja2'. No files were found to uninstall.\n  Attempting uninstall: send2trash\n    Found existing installation: Send2Trash 1.8.0\n    Not uninstalling send2trash at /databricks/python3/lib/python3.9/site-packages, outside environment /local_disk0/.ephemeral_nfs/envs/pythonEnv-06d6118a-388a-4908-9493-96c23eb48303\n    Can't uninstall 'Send2Trash'. No files were found to uninstall.\n  Attempting uninstall: requests\n    Found existing installation: requests 2.27.1\n    Not uninstalling requests at /databricks/python3/lib/python3.9/site-packages, outside environment /local_disk0/.ephemeral_nfs/envs/pythonEnv-06d6118a-388a-4908-9493-96c23eb48303\n    Can't uninstall 'requests'. No files were found to uninstall.\n  Attempting uninstall: numpy\n    Found existing installation: numpy 1.21.5\n    Not uninstalling numpy at /databricks/python3/lib/python3.9/site-packages, outside environment /local_disk0/.ephemeral_nfs/envs/pythonEnv-06d6118a-388a-4908-9493-96c23eb48303\n    Can't uninstall 'numpy'. No files were found to uninstall.\n  Attempting uninstall: notebook\n    Found existing installation: notebook 6.4.8\n    Not uninstalling notebook at /databricks/python3/lib/python3.9/site-packages, outside environment /local_disk0/.ephemeral_nfs/envs/pythonEnv-06d6118a-388a-4908-9493-96c23eb48303\n    Can't uninstall 'notebook'. No files were found to uninstall.\nSuccessfully installed altair-4.2.2 annotated-types-0.7.0 anyio-4.6.0 arrow-1.3.0 async-lru-2.0.4 attrs-24.2.0 babel-2.16.0 colorama-0.4.6 exceptiongroup-1.2.2 fqdn-1.5.1 great-expectations-0.18.21 h11-0.14.0 httpcore-1.0.5 httpx-0.27.2 importlib-metadata-8.5.0 isoduration-20.11.0 jinja2-3.1.4 json5-0.9.25 jsonpatch-1.33 jsonpointer-3.0.0 jsonschema-4.23.0 jsonschema-specifications-2023.12.1 jupyter-client-8.6.3 jupyter-core-5.7.2 jupyter-events-0.10.0 jupyter-lsp-2.2.5 jupyter-server-2.14.2 jupyter-server-terminals-0.5.3 jupyterlab-4.2.5 jupyterlab-server-2.27.3 makefun-1.15.6 marshmallow-3.22.0 notebook-7.2.2 notebook-shim-0.2.4 numpy-1.22.4 overrides-7.7.0 packaging-24.1 pydantic-2.9.2 pydantic-core-2.23.4 python-json-logger-2.0.7 pyyaml-6.0.2 pyzmq-26.2.0 referencing-0.35.1 requests-2.32.3 rfc3339-validator-0.1.4 rfc3986-validator-0.1.1 rpds-py-0.20.0 ruamel.yaml-0.17.40 ruamel.yaml.clib-0.2.8 send2trash-1.8.3 sniffio-1.3.1 toolz-0.12.1 tornado-6.4.1 tqdm-4.66.5 traitlets-5.14.3 types-python-dateutil-2.9.0.20240906 typing-extensions-4.12.2 tzlocal-5.2 uri-template-1.3.0 webcolors-24.8.0 websocket-client-1.8.0 zipp-3.20.2\nPython interpreter will be restarted.\n"
     ]
    }
   ],
   "source": [
    "pip install great-expectations==0.18.21"
   ]
  },
  {
   "cell_type": "code",
   "execution_count": 0,
   "metadata": {
    "application/vnd.databricks.v1+cell": {
     "cellMetadata": {
      "byteLimit": 2048000,
      "rowLimit": 10000
     },
     "inputWidgets": {},
     "nuid": "e5c72b20-396c-429d-9756-11a526b49f15",
     "showTitle": false,
     "title": ""
    }
   },
   "outputs": [],
   "source": [
    "import great_expectations as ge"
   ]
  },
  {
   "cell_type": "code",
   "execution_count": 0,
   "metadata": {
    "application/vnd.databricks.v1+cell": {
     "cellMetadata": {
      "byteLimit": 2048000,
      "rowLimit": 10000
     },
     "inputWidgets": {},
     "nuid": "83e3fe37-27b9-471e-98f6-da4295226281",
     "showTitle": false,
     "title": ""
    }
   },
   "outputs": [
    {
     "output_type": "display_data",
     "data": {
      "application/vnd.databricks.v1+bamboolib_hint": "{\"pd.DataFrames\": [], \"version\": \"0.0.1\"}",
      "text/plain": []
     },
     "metadata": {},
     "output_type": "display_data"
    }
   ],
   "source": [
    "import requests\n",
    "import pandas as pd\n",
    "from pyspark.sql import SparkSession\n",
    "from pyspark.sql.functions import col, isnan\n"
   ]
  },
  {
   "cell_type": "code",
   "execution_count": 0,
   "metadata": {
    "application/vnd.databricks.v1+cell": {
     "cellMetadata": {
      "byteLimit": 2048000,
      "rowLimit": 10000
     },
     "inputWidgets": {},
     "nuid": "fb1e571c-7d5d-4ef2-99ba-07ac25e6aea2",
     "showTitle": false,
     "title": ""
    }
   },
   "outputs": [],
   "source": [
    "spark = SparkSession.builder.appName(\"EXT_SAP_API\").getOrCreate()"
   ]
  },
  {
   "cell_type": "code",
   "execution_count": 0,
   "metadata": {
    "application/vnd.databricks.v1+cell": {
     "cellMetadata": {
      "byteLimit": 2048000,
      "rowLimit": 10000
     },
     "inputWidgets": {},
     "nuid": "fc96e2d2-63f9-4489-b1f5-af7af77e1c97",
     "showTitle": false,
     "title": ""
    }
   },
   "outputs": [],
   "source": [
    "class Ext_SAP_API:\n",
    "\n",
    "    def __init__(self, area, arquivo, chave,spark):\n",
    "        self.area = area \n",
    "        self.arquivo = arquivo\n",
    "        self.chave = chave\n",
    "        self.spark = spark\n",
    "\n",
    "    \n",
    "    def get_dados_archive(self):\n",
    "        url_base = \"https://datasap-293251100165.herokuapp.com/dados\"\n",
    "        url = f\"{url_base}/{self.area}/{self.arquivo}\"\n",
    "        auth = (\"\", f\"{self.chave}\")\n",
    "\n",
    "        response = requests.get(url, auth=auth)\n",
    "        if response.status_code == 200:\n",
    "            data = response.json()\n",
    "            return data \n",
    "        else:\n",
    "            print(\"Erro: Não foi possível obter dados da API.\")\n",
    "            return None\n",
    "        \n",
    "    def create_dataframe(self):\n",
    "        dados = self.get_dados_archive()\n",
    "        if dados is not None:\n",
    "            df = self.spark.createDataFrame(dados)\n",
    "            return df\n",
    "        else:\n",
    "            print(\"Não foi possível obter dados da API.\")\n",
    "            return None"
   ]
  },
  {
   "cell_type": "code",
   "execution_count": 0,
   "metadata": {
    "application/vnd.databricks.v1+cell": {
     "cellMetadata": {
      "byteLimit": 2048000,
      "rowLimit": 10000
     },
     "inputWidgets": {},
     "nuid": "3180b49a-328b-4625-9d68-5c7af971e4ab",
     "showTitle": false,
     "title": ""
    }
   },
   "outputs": [],
   "source": [
    "area = 'SAP'\n",
    "arquivo = 'Products'\n",
    "chave = 'meizterdevs2024'"
   ]
  },
  {
   "cell_type": "code",
   "execution_count": 0,
   "metadata": {
    "application/vnd.databricks.v1+cell": {
     "cellMetadata": {
      "byteLimit": 2048000,
      "rowLimit": 10000
     },
     "inputWidgets": {},
     "nuid": "bca3192b-6971-4ab8-8acc-9649b7bf6dee",
     "showTitle": false,
     "title": ""
    }
   },
   "outputs": [
    {
     "output_type": "stream",
     "name": "stdout",
     "output_type": "stream",
     "text": [
      "Dataframe criado com sucesso!\n"
     ]
    },
    {
     "output_type": "display_data",
     "data": {
      "text/html": [
       "<style scoped>\n",
       "  .table-result-container {\n",
       "    max-height: 300px;\n",
       "    overflow: auto;\n",
       "  }\n",
       "  table, th, td {\n",
       "    border: 1px solid black;\n",
       "    border-collapse: collapse;\n",
       "  }\n",
       "  th, td {\n",
       "    padding: 5px;\n",
       "  }\n",
       "  th {\n",
       "    text-align: left;\n",
       "  }\n",
       "</style><div class='table-result-container'><table class='table-result'><thead style='background-color: white'><tr><th>CHANGEDAT</th><th>CHANGEDBY</th><th>CREATEDAT</th><th>CREATEDBY</th><th>CURRENCY</th><th>DEPTH</th><th>DIMENSIONUNIT</th><th>HEIGHT</th><th>PRICE</th><th>PRODCATEGORYID</th><th>PRODUCTID</th><th>PRODUCTPICURL</th><th>QUANTITYUNIT</th><th>SUPPLIER_PARTNERID</th><th>TAXTARIFFCODE</th><th>TYPECODE</th><th>WEIGHTMEASURE</th><th>WEIGHTUNIT</th><th>WIDTH</th></tr></thead><tbody><tr><td>20181003</td><td>9</td><td>20181003</td><td>9</td><td>USD</td><td>nan</td><td>nan</td><td>nan</td><td>525</td><td>RO</td><td>RO-1001</td><td>nan</td><td>EA</td><td>100000000</td><td>1</td><td>PR</td><td>7.7</td><td>KG</td><td>nan</td></tr><tr><td>20181003</td><td>9</td><td>20181003</td><td>9</td><td>USD</td><td>nan</td><td>nan</td><td>nan</td><td>689</td><td>RO</td><td>RO-1002</td><td>nan</td><td>EA</td><td>100000001</td><td>1</td><td>PR</td><td>8.0</td><td>KG</td><td>nan</td></tr><tr><td>20181003</td><td>12</td><td>20181003</td><td>12</td><td>USD</td><td>nan</td><td>nan</td><td>nan</td><td>721</td><td>RO</td><td>RO-1003</td><td>nan</td><td>EA</td><td>100000002</td><td>1</td><td>PR</td><td>9.1</td><td>KG</td><td>nan</td></tr><tr><td>20181003</td><td>9</td><td>20181003</td><td>9</td><td>USD</td><td>nan</td><td>nan</td><td>nan</td><td>249</td><td>BX</td><td>BX-1011</td><td>nan</td><td>EA</td><td>100000003</td><td>1</td><td>PR</td><td>11.1</td><td>KG</td><td>nan</td></tr><tr><td>20181003</td><td>6</td><td>20181003</td><td>6</td><td>USD</td><td>nan</td><td>nan</td><td>nan</td><td>399</td><td>BX</td><td>BX-1012</td><td>nan</td><td>EA</td><td>100000004</td><td>1</td><td>PR</td><td>12.0</td><td>KG</td><td>nan</td></tr><tr><td>20181003</td><td>7</td><td>20181003</td><td>7</td><td>USD</td><td>nan</td><td>nan</td><td>nan</td><td>449</td><td>BX</td><td>BX-1013</td><td>nan</td><td>EA</td><td>100000005</td><td>1</td><td>PR</td><td>13.1</td><td>KG</td><td>nan</td></tr><tr><td>20181003</td><td>11</td><td>20181003</td><td>11</td><td>USD</td><td>nan</td><td>nan</td><td>nan</td><td>799</td><td>BX</td><td>BX-1014</td><td>nan</td><td>EA</td><td>100000006</td><td>1</td><td>PR</td><td>11.8</td><td>KG</td><td>nan</td></tr><tr><td>20181003</td><td>8</td><td>20181003</td><td>8</td><td>USD</td><td>nan</td><td>nan</td><td>nan</td><td>299</td><td>BX</td><td>BX-1015</td><td>nan</td><td>EA</td><td>100000007</td><td>1</td><td>PR</td><td>12.5</td><td>KG</td><td>nan</td></tr><tr><td>20181003</td><td>11</td><td>20181003</td><td>11</td><td>USD</td><td>nan</td><td>nan</td><td>nan</td><td>319</td><td>BX</td><td>BX-1016</td><td>nan</td><td>EA</td><td>100000008</td><td>1</td><td>PR</td><td>12.8</td><td>KG</td><td>nan</td></tr><tr><td>20181003</td><td>10</td><td>20181003</td><td>10</td><td>USD</td><td>nan</td><td>nan</td><td>nan</td><td>1144</td><td>CC</td><td>CC-1021</td><td>nan</td><td>EA</td><td>100000009</td><td>1</td><td>PR</td><td>8.1</td><td>KG</td><td>nan</td></tr><tr><td>20181003</td><td>13</td><td>20181003</td><td>13</td><td>USD</td><td>nan</td><td>nan</td><td>nan</td><td>1200</td><td>CC</td><td>CC-1022</td><td>nan</td><td>EA</td><td>100000010</td><td>1</td><td>PR</td><td>8.0</td><td>KG</td><td>nan</td></tr><tr><td>20181003</td><td>12</td><td>20181003</td><td>12</td><td>USD</td><td>nan</td><td>nan</td><td>nan</td><td>1361</td><td>CC</td><td>CC-1023</td><td>nan</td><td>EA</td><td>100000011</td><td>1</td><td>PR</td><td>8.6</td><td>KG</td><td>nan</td></tr><tr><td>20181003</td><td>12</td><td>20181003</td><td>12</td><td>USD</td><td>nan</td><td>nan</td><td>nan</td><td>649</td><td>MB</td><td>MB-1031</td><td>nan</td><td>EA</td><td>100000012</td><td>1</td><td>PR</td><td>12.7</td><td>KG</td><td>nan</td></tr><tr><td>20181003</td><td>2</td><td>20181003</td><td>2</td><td>USD</td><td>nan</td><td>nan</td><td>nan</td><td>1299</td><td>MB</td><td>MB-1032</td><td>nan</td><td>EA</td><td>100000013</td><td>1</td><td>PR</td><td>12.0</td><td>KG</td><td>nan</td></tr><tr><td>20181003</td><td>7</td><td>20181003</td><td>7</td><td>USD</td><td>nan</td><td>nan</td><td>nan</td><td>3999</td><td>MB</td><td>MB-1033</td><td>nan</td><td>EA</td><td>100000014</td><td>1</td><td>PR</td><td>13.1</td><td>KG</td><td>nan</td></tr><tr><td>20181003</td><td>11</td><td>20181003</td><td>11</td><td>USD</td><td>nan</td><td>nan</td><td>nan</td><td>2499</td><td>MB</td><td>MB-1034</td><td>nan</td><td>EA</td><td>100000015</td><td>1</td><td>PR</td><td>12.5</td><td>KG</td><td>nan</td></tr><tr><td>20181003</td><td>1</td><td>20181003</td><td>1</td><td>USD</td><td>nan</td><td>nan</td><td>nan</td><td>2499</td><td>RC</td><td>RC-1051</td><td>nan</td><td>EA</td><td>100000016</td><td>1</td><td>PR</td><td>7.1</td><td>KG</td><td>nan</td></tr><tr><td>20181003</td><td>5</td><td>20181003</td><td>5</td><td>USD</td><td>nan</td><td>nan</td><td>nan</td><td>3999</td><td>RC</td><td>RC-1052</td><td>nan</td><td>EA</td><td>100000017</td><td>1</td><td>PR</td><td>7.5</td><td>KG</td><td>nan</td></tr><tr><td>20181003</td><td>3</td><td>20181003</td><td>3</td><td>USD</td><td>nan</td><td>nan</td><td>nan</td><td>4599</td><td>RC</td><td>RC-1053</td><td>nan</td><td>EA</td><td>100000018</td><td>1</td><td>PR</td><td>6.9</td><td>KG</td><td>nan</td></tr><tr><td>20181003</td><td>14</td><td>20181003</td><td>14</td><td>USD</td><td>nan</td><td>nan</td><td>nan</td><td>5499</td><td>RC</td><td>RC-1054</td><td>nan</td><td>EA</td><td>100000019</td><td>1</td><td>PR</td><td>7.0</td><td>KG</td><td>nan</td></tr><tr><td>20181003</td><td>2</td><td>20181003</td><td>2</td><td>USD</td><td>nan</td><td>nan</td><td>nan</td><td>1999</td><td>RC</td><td>RC-1055</td><td>nan</td><td>EA</td><td>100000020</td><td>1</td><td>PR</td><td>7.2</td><td>KG</td><td>nan</td></tr><tr><td>20181003</td><td>13</td><td>20181003</td><td>13</td><td>USD</td><td>nan</td><td>nan</td><td>nan</td><td>2499</td><td>RC</td><td>RC-1056</td><td>nan</td><td>EA</td><td>100000021</td><td>1</td><td>PR</td><td>7.8</td><td>KG</td><td>nan</td></tr><tr><td>20181003</td><td>12</td><td>20181003</td><td>12</td><td>USD</td><td>nan</td><td>nan</td><td>nan</td><td>4999</td><td>RC</td><td>RC-1057</td><td>nan</td><td>EA</td><td>100000022</td><td>1</td><td>PR</td><td>7.3</td><td>KG</td><td>nan</td></tr><tr><td>20181003</td><td>10</td><td>20181003</td><td>10</td><td>USD</td><td>nan</td><td>nan</td><td>nan</td><td>1499</td><td>DB</td><td>DB-1081</td><td>nan</td><td>EA</td><td>100000023</td><td>1</td><td>PR</td><td>13.6</td><td>KG</td><td>nan</td></tr><tr><td>20181003</td><td>4</td><td>20181003</td><td>4</td><td>USD</td><td>nan</td><td>nan</td><td>nan</td><td>1250</td><td>DB</td><td>DB-1082</td><td>nan</td><td>EA</td><td>100000024</td><td>1</td><td>PR</td><td>14.3</td><td>KG</td><td>nan</td></tr><tr><td>20181003</td><td>6</td><td>20181003</td><td>6</td><td>USD</td><td>nan</td><td>nan</td><td>nan</td><td>1199</td><td>DB</td><td>DB-1083</td><td>nan</td><td>EA</td><td>100000025</td><td>1</td><td>PR</td><td>15.4</td><td>KG</td><td>nan</td></tr><tr><td>20181003</td><td>14</td><td>20181003</td><td>14</td><td>USD</td><td>nan</td><td>nan</td><td>nan</td><td>1500</td><td>EB</td><td>EB-1131</td><td>nan</td><td>EA</td><td>100000026</td><td>1</td><td>PR</td><td>18.1</td><td>KG</td><td>nan</td></tr><tr><td>20181003</td><td>14</td><td>20181003</td><td>14</td><td>USD</td><td>nan</td><td>nan</td><td>nan</td><td>1900</td><td>EB</td><td>EB-1132</td><td>nan</td><td>EA</td><td>100000027</td><td>1</td><td>PR</td><td>18.8</td><td>KG</td><td>nan</td></tr><tr><td>20181003</td><td>5</td><td>20181003</td><td>5</td><td>USD</td><td>nan</td><td>nan</td><td>nan</td><td>2250</td><td>EB</td><td>EB-1133</td><td>nan</td><td>EA</td><td>100000028</td><td>1</td><td>PR</td><td>21.0</td><td>KG</td><td>nan</td></tr><tr><td>20181003</td><td>4</td><td>20181003</td><td>4</td><td>USD</td><td>nan</td><td>nan</td><td>nan</td><td>4800</td><td>EB</td><td>EB-1134</td><td>nan</td><td>EA</td><td>100000029</td><td>1</td><td>PR</td><td>20.1</td><td>KG</td><td>nan</td></tr><tr><td>20181003</td><td>12</td><td>20181003</td><td>12</td><td>USD</td><td>nan</td><td>nan</td><td>nan</td><td>3000</td><td>EB</td><td>EB-1135</td><td>nan</td><td>EA</td><td>100000030</td><td>1</td><td>PR</td><td>19.3</td><td>KG</td><td>nan</td></tr><tr><td>20181003</td><td>7</td><td>20181003</td><td>7</td><td>USD</td><td>nan</td><td>nan</td><td>nan</td><td>5000</td><td>EB</td><td>EB-1136</td><td>nan</td><td>EA</td><td>100000031</td><td>1</td><td>PR</td><td>20.5</td><td>KG</td><td>nan</td></tr><tr><td>20181003</td><td>6</td><td>20181003</td><td>6</td><td>USD</td><td>nan</td><td>nan</td><td>nan</td><td>7900</td><td>EB</td><td>EB-1137</td><td>nan</td><td>EA</td><td>100000032</td><td>1</td><td>PR</td><td>22.0</td><td>KG</td><td>nan</td></tr><tr><td>20181003</td><td>6</td><td>20181003</td><td>6</td><td>USD</td><td>nan</td><td>nan</td><td>nan</td><td>399</td><td>CB</td><td>CB-1161</td><td>nan</td><td>EA</td><td>100000033</td><td>1</td><td>PR</td><td>15.0</td><td>KG</td><td>nan</td></tr><tr><td>20181003</td><td>9</td><td>20181003</td><td>9</td><td>USD</td><td>nan</td><td>nan</td><td>nan</td><td>400</td><td>CB</td><td>CB-1162</td><td>nan</td><td>EA</td><td>100000034</td><td>1</td><td>PR</td><td>18.0</td><td>KG</td><td>nan</td></tr><tr><td>20181003</td><td>14</td><td>20181003</td><td>14</td><td>USD</td><td>nan</td><td>nan</td><td>nan</td><td>288</td><td>CB</td><td>CB-1163</td><td>nan</td><td>EA</td><td>100000035</td><td>1</td><td>PR</td><td>16.0</td><td>KG</td><td>nan</td></tr><tr><td>20181003</td><td>1</td><td>20181003</td><td>1</td><td>USD</td><td>nan</td><td>nan</td><td>nan</td><td>699</td><td>HB</td><td>HB-1171</td><td>nan</td><td>EA</td><td>100000036</td><td>1</td><td>PR</td><td>11.0</td><td>KG</td><td>nan</td></tr><tr><td>20181003</td><td>1</td><td>20181003</td><td>1</td><td>USD</td><td>nan</td><td>nan</td><td>nan</td><td>799</td><td>HB</td><td>HB-1172</td><td>nan</td><td>EA</td><td>100000037</td><td>1</td><td>PR</td><td>12.1</td><td>KG</td><td>nan</td></tr><tr><td>20181003</td><td>3</td><td>20181003</td><td>3</td><td>USD</td><td>nan</td><td>nan</td><td>nan</td><td>649</td><td>HB</td><td>HB-1173</td><td>nan</td><td>EA</td><td>100000038</td><td>1</td><td>PR</td><td>13.5</td><td>KG</td><td>nan</td></tr><tr><td>20181003</td><td>3</td><td>20181003</td><td>3</td><td>USD</td><td>nan</td><td>nan</td><td>nan</td><td>379</td><td>HB</td><td>HB-1174</td><td>nan</td><td>EA</td><td>100000039</td><td>1</td><td>PR</td><td>11.8</td><td>KG</td><td>nan</td></tr><tr><td>20181003</td><td>7</td><td>20181003</td><td>7</td><td>USD</td><td>nan</td><td>nan</td><td>nan</td><td>899</td><td>HB</td><td>HB-1175</td><td>nan</td><td>EA</td><td>100000040</td><td>1</td><td>PR</td><td>12.5</td><td>KG</td><td>nan</td></tr><tr><td>20181003</td><td>5</td><td>20181003</td><td>5</td><td>USD</td><td>nan</td><td>nan</td><td>nan</td><td>1199</td><td>HB</td><td>HB-1176</td><td>nan</td><td>EA</td><td>100000041</td><td>1</td><td>PR</td><td>12.9</td><td>KG</td><td>nan</td></tr></tbody></table></div>"
      ]
     },
     "metadata": {
      "application/vnd.databricks.v1+output": {
       "addedWidgets": {},
       "aggData": [],
       "aggError": "",
       "aggOverflow": false,
       "aggSchema": [],
       "aggSeriesLimitReached": false,
       "aggType": "",
       "arguments": {},
       "columnCustomDisplayInfos": {},
       "data": [
        [
         "20181003",
         "9",
         "20181003",
         "9",
         "USD",
         "nan",
         "nan",
         "nan",
         "525",
         "RO",
         "RO-1001",
         "nan",
         "EA",
         "100000000",
         "1",
         "PR",
         "7.7",
         "KG",
         "nan"
        ],
        [
         "20181003",
         "9",
         "20181003",
         "9",
         "USD",
         "nan",
         "nan",
         "nan",
         "689",
         "RO",
         "RO-1002",
         "nan",
         "EA",
         "100000001",
         "1",
         "PR",
         "8.0",
         "KG",
         "nan"
        ],
        [
         "20181003",
         "12",
         "20181003",
         "12",
         "USD",
         "nan",
         "nan",
         "nan",
         "721",
         "RO",
         "RO-1003",
         "nan",
         "EA",
         "100000002",
         "1",
         "PR",
         "9.1",
         "KG",
         "nan"
        ],
        [
         "20181003",
         "9",
         "20181003",
         "9",
         "USD",
         "nan",
         "nan",
         "nan",
         "249",
         "BX",
         "BX-1011",
         "nan",
         "EA",
         "100000003",
         "1",
         "PR",
         "11.1",
         "KG",
         "nan"
        ],
        [
         "20181003",
         "6",
         "20181003",
         "6",
         "USD",
         "nan",
         "nan",
         "nan",
         "399",
         "BX",
         "BX-1012",
         "nan",
         "EA",
         "100000004",
         "1",
         "PR",
         "12.0",
         "KG",
         "nan"
        ],
        [
         "20181003",
         "7",
         "20181003",
         "7",
         "USD",
         "nan",
         "nan",
         "nan",
         "449",
         "BX",
         "BX-1013",
         "nan",
         "EA",
         "100000005",
         "1",
         "PR",
         "13.1",
         "KG",
         "nan"
        ],
        [
         "20181003",
         "11",
         "20181003",
         "11",
         "USD",
         "nan",
         "nan",
         "nan",
         "799",
         "BX",
         "BX-1014",
         "nan",
         "EA",
         "100000006",
         "1",
         "PR",
         "11.8",
         "KG",
         "nan"
        ],
        [
         "20181003",
         "8",
         "20181003",
         "8",
         "USD",
         "nan",
         "nan",
         "nan",
         "299",
         "BX",
         "BX-1015",
         "nan",
         "EA",
         "100000007",
         "1",
         "PR",
         "12.5",
         "KG",
         "nan"
        ],
        [
         "20181003",
         "11",
         "20181003",
         "11",
         "USD",
         "nan",
         "nan",
         "nan",
         "319",
         "BX",
         "BX-1016",
         "nan",
         "EA",
         "100000008",
         "1",
         "PR",
         "12.8",
         "KG",
         "nan"
        ],
        [
         "20181003",
         "10",
         "20181003",
         "10",
         "USD",
         "nan",
         "nan",
         "nan",
         "1144",
         "CC",
         "CC-1021",
         "nan",
         "EA",
         "100000009",
         "1",
         "PR",
         "8.1",
         "KG",
         "nan"
        ],
        [
         "20181003",
         "13",
         "20181003",
         "13",
         "USD",
         "nan",
         "nan",
         "nan",
         "1200",
         "CC",
         "CC-1022",
         "nan",
         "EA",
         "100000010",
         "1",
         "PR",
         "8.0",
         "KG",
         "nan"
        ],
        [
         "20181003",
         "12",
         "20181003",
         "12",
         "USD",
         "nan",
         "nan",
         "nan",
         "1361",
         "CC",
         "CC-1023",
         "nan",
         "EA",
         "100000011",
         "1",
         "PR",
         "8.6",
         "KG",
         "nan"
        ],
        [
         "20181003",
         "12",
         "20181003",
         "12",
         "USD",
         "nan",
         "nan",
         "nan",
         "649",
         "MB",
         "MB-1031",
         "nan",
         "EA",
         "100000012",
         "1",
         "PR",
         "12.7",
         "KG",
         "nan"
        ],
        [
         "20181003",
         "2",
         "20181003",
         "2",
         "USD",
         "nan",
         "nan",
         "nan",
         "1299",
         "MB",
         "MB-1032",
         "nan",
         "EA",
         "100000013",
         "1",
         "PR",
         "12.0",
         "KG",
         "nan"
        ],
        [
         "20181003",
         "7",
         "20181003",
         "7",
         "USD",
         "nan",
         "nan",
         "nan",
         "3999",
         "MB",
         "MB-1033",
         "nan",
         "EA",
         "100000014",
         "1",
         "PR",
         "13.1",
         "KG",
         "nan"
        ],
        [
         "20181003",
         "11",
         "20181003",
         "11",
         "USD",
         "nan",
         "nan",
         "nan",
         "2499",
         "MB",
         "MB-1034",
         "nan",
         "EA",
         "100000015",
         "1",
         "PR",
         "12.5",
         "KG",
         "nan"
        ],
        [
         "20181003",
         "1",
         "20181003",
         "1",
         "USD",
         "nan",
         "nan",
         "nan",
         "2499",
         "RC",
         "RC-1051",
         "nan",
         "EA",
         "100000016",
         "1",
         "PR",
         "7.1",
         "KG",
         "nan"
        ],
        [
         "20181003",
         "5",
         "20181003",
         "5",
         "USD",
         "nan",
         "nan",
         "nan",
         "3999",
         "RC",
         "RC-1052",
         "nan",
         "EA",
         "100000017",
         "1",
         "PR",
         "7.5",
         "KG",
         "nan"
        ],
        [
         "20181003",
         "3",
         "20181003",
         "3",
         "USD",
         "nan",
         "nan",
         "nan",
         "4599",
         "RC",
         "RC-1053",
         "nan",
         "EA",
         "100000018",
         "1",
         "PR",
         "6.9",
         "KG",
         "nan"
        ],
        [
         "20181003",
         "14",
         "20181003",
         "14",
         "USD",
         "nan",
         "nan",
         "nan",
         "5499",
         "RC",
         "RC-1054",
         "nan",
         "EA",
         "100000019",
         "1",
         "PR",
         "7.0",
         "KG",
         "nan"
        ],
        [
         "20181003",
         "2",
         "20181003",
         "2",
         "USD",
         "nan",
         "nan",
         "nan",
         "1999",
         "RC",
         "RC-1055",
         "nan",
         "EA",
         "100000020",
         "1",
         "PR",
         "7.2",
         "KG",
         "nan"
        ],
        [
         "20181003",
         "13",
         "20181003",
         "13",
         "USD",
         "nan",
         "nan",
         "nan",
         "2499",
         "RC",
         "RC-1056",
         "nan",
         "EA",
         "100000021",
         "1",
         "PR",
         "7.8",
         "KG",
         "nan"
        ],
        [
         "20181003",
         "12",
         "20181003",
         "12",
         "USD",
         "nan",
         "nan",
         "nan",
         "4999",
         "RC",
         "RC-1057",
         "nan",
         "EA",
         "100000022",
         "1",
         "PR",
         "7.3",
         "KG",
         "nan"
        ],
        [
         "20181003",
         "10",
         "20181003",
         "10",
         "USD",
         "nan",
         "nan",
         "nan",
         "1499",
         "DB",
         "DB-1081",
         "nan",
         "EA",
         "100000023",
         "1",
         "PR",
         "13.6",
         "KG",
         "nan"
        ],
        [
         "20181003",
         "4",
         "20181003",
         "4",
         "USD",
         "nan",
         "nan",
         "nan",
         "1250",
         "DB",
         "DB-1082",
         "nan",
         "EA",
         "100000024",
         "1",
         "PR",
         "14.3",
         "KG",
         "nan"
        ],
        [
         "20181003",
         "6",
         "20181003",
         "6",
         "USD",
         "nan",
         "nan",
         "nan",
         "1199",
         "DB",
         "DB-1083",
         "nan",
         "EA",
         "100000025",
         "1",
         "PR",
         "15.4",
         "KG",
         "nan"
        ],
        [
         "20181003",
         "14",
         "20181003",
         "14",
         "USD",
         "nan",
         "nan",
         "nan",
         "1500",
         "EB",
         "EB-1131",
         "nan",
         "EA",
         "100000026",
         "1",
         "PR",
         "18.1",
         "KG",
         "nan"
        ],
        [
         "20181003",
         "14",
         "20181003",
         "14",
         "USD",
         "nan",
         "nan",
         "nan",
         "1900",
         "EB",
         "EB-1132",
         "nan",
         "EA",
         "100000027",
         "1",
         "PR",
         "18.8",
         "KG",
         "nan"
        ],
        [
         "20181003",
         "5",
         "20181003",
         "5",
         "USD",
         "nan",
         "nan",
         "nan",
         "2250",
         "EB",
         "EB-1133",
         "nan",
         "EA",
         "100000028",
         "1",
         "PR",
         "21.0",
         "KG",
         "nan"
        ],
        [
         "20181003",
         "4",
         "20181003",
         "4",
         "USD",
         "nan",
         "nan",
         "nan",
         "4800",
         "EB",
         "EB-1134",
         "nan",
         "EA",
         "100000029",
         "1",
         "PR",
         "20.1",
         "KG",
         "nan"
        ],
        [
         "20181003",
         "12",
         "20181003",
         "12",
         "USD",
         "nan",
         "nan",
         "nan",
         "3000",
         "EB",
         "EB-1135",
         "nan",
         "EA",
         "100000030",
         "1",
         "PR",
         "19.3",
         "KG",
         "nan"
        ],
        [
         "20181003",
         "7",
         "20181003",
         "7",
         "USD",
         "nan",
         "nan",
         "nan",
         "5000",
         "EB",
         "EB-1136",
         "nan",
         "EA",
         "100000031",
         "1",
         "PR",
         "20.5",
         "KG",
         "nan"
        ],
        [
         "20181003",
         "6",
         "20181003",
         "6",
         "USD",
         "nan",
         "nan",
         "nan",
         "7900",
         "EB",
         "EB-1137",
         "nan",
         "EA",
         "100000032",
         "1",
         "PR",
         "22.0",
         "KG",
         "nan"
        ],
        [
         "20181003",
         "6",
         "20181003",
         "6",
         "USD",
         "nan",
         "nan",
         "nan",
         "399",
         "CB",
         "CB-1161",
         "nan",
         "EA",
         "100000033",
         "1",
         "PR",
         "15.0",
         "KG",
         "nan"
        ],
        [
         "20181003",
         "9",
         "20181003",
         "9",
         "USD",
         "nan",
         "nan",
         "nan",
         "400",
         "CB",
         "CB-1162",
         "nan",
         "EA",
         "100000034",
         "1",
         "PR",
         "18.0",
         "KG",
         "nan"
        ],
        [
         "20181003",
         "14",
         "20181003",
         "14",
         "USD",
         "nan",
         "nan",
         "nan",
         "288",
         "CB",
         "CB-1163",
         "nan",
         "EA",
         "100000035",
         "1",
         "PR",
         "16.0",
         "KG",
         "nan"
        ],
        [
         "20181003",
         "1",
         "20181003",
         "1",
         "USD",
         "nan",
         "nan",
         "nan",
         "699",
         "HB",
         "HB-1171",
         "nan",
         "EA",
         "100000036",
         "1",
         "PR",
         "11.0",
         "KG",
         "nan"
        ],
        [
         "20181003",
         "1",
         "20181003",
         "1",
         "USD",
         "nan",
         "nan",
         "nan",
         "799",
         "HB",
         "HB-1172",
         "nan",
         "EA",
         "100000037",
         "1",
         "PR",
         "12.1",
         "KG",
         "nan"
        ],
        [
         "20181003",
         "3",
         "20181003",
         "3",
         "USD",
         "nan",
         "nan",
         "nan",
         "649",
         "HB",
         "HB-1173",
         "nan",
         "EA",
         "100000038",
         "1",
         "PR",
         "13.5",
         "KG",
         "nan"
        ],
        [
         "20181003",
         "3",
         "20181003",
         "3",
         "USD",
         "nan",
         "nan",
         "nan",
         "379",
         "HB",
         "HB-1174",
         "nan",
         "EA",
         "100000039",
         "1",
         "PR",
         "11.8",
         "KG",
         "nan"
        ],
        [
         "20181003",
         "7",
         "20181003",
         "7",
         "USD",
         "nan",
         "nan",
         "nan",
         "899",
         "HB",
         "HB-1175",
         "nan",
         "EA",
         "100000040",
         "1",
         "PR",
         "12.5",
         "KG",
         "nan"
        ],
        [
         "20181003",
         "5",
         "20181003",
         "5",
         "USD",
         "nan",
         "nan",
         "nan",
         "1199",
         "HB",
         "HB-1176",
         "nan",
         "EA",
         "100000041",
         "1",
         "PR",
         "12.9",
         "KG",
         "nan"
        ]
       ],
       "datasetInfos": [],
       "dbfsResultPath": null,
       "isJsonSchema": true,
       "metadata": {},
       "overflow": false,
       "plotOptions": {
        "customPlotOptions": {},
        "displayType": "table",
        "pivotAggregation": null,
        "pivotColumns": null,
        "xColumns": null,
        "yColumns": null
       },
       "removedWidgets": [],
       "schema": [
        {
         "metadata": "{}",
         "name": "CHANGEDAT",
         "type": "\"string\""
        },
        {
         "metadata": "{}",
         "name": "CHANGEDBY",
         "type": "\"string\""
        },
        {
         "metadata": "{}",
         "name": "CREATEDAT",
         "type": "\"string\""
        },
        {
         "metadata": "{}",
         "name": "CREATEDBY",
         "type": "\"string\""
        },
        {
         "metadata": "{}",
         "name": "CURRENCY",
         "type": "\"string\""
        },
        {
         "metadata": "{}",
         "name": "DEPTH",
         "type": "\"string\""
        },
        {
         "metadata": "{}",
         "name": "DIMENSIONUNIT",
         "type": "\"string\""
        },
        {
         "metadata": "{}",
         "name": "HEIGHT",
         "type": "\"string\""
        },
        {
         "metadata": "{}",
         "name": "PRICE",
         "type": "\"string\""
        },
        {
         "metadata": "{}",
         "name": "PRODCATEGORYID",
         "type": "\"string\""
        },
        {
         "metadata": "{}",
         "name": "PRODUCTID",
         "type": "\"string\""
        },
        {
         "metadata": "{}",
         "name": "PRODUCTPICURL",
         "type": "\"string\""
        },
        {
         "metadata": "{}",
         "name": "QUANTITYUNIT",
         "type": "\"string\""
        },
        {
         "metadata": "{}",
         "name": "SUPPLIER_PARTNERID",
         "type": "\"string\""
        },
        {
         "metadata": "{}",
         "name": "TAXTARIFFCODE",
         "type": "\"string\""
        },
        {
         "metadata": "{}",
         "name": "TYPECODE",
         "type": "\"string\""
        },
        {
         "metadata": "{}",
         "name": "WEIGHTMEASURE",
         "type": "\"string\""
        },
        {
         "metadata": "{}",
         "name": "WEIGHTUNIT",
         "type": "\"string\""
        },
        {
         "metadata": "{}",
         "name": "WIDTH",
         "type": "\"string\""
        }
       ],
       "type": "table"
      }
     },
     "output_type": "display_data"
    }
   ],
   "source": [
    "extract = Ext_SAP_API(area, arquivo, chave, spark)\n",
    "\n",
    "#Criar o dataframe do spark e imprimir\n",
    "df = extract.create_dataframe()\n",
    "\n",
    "if df is not None:\n",
    "    print('Dataframe criado com sucesso!')\n",
    "    display(df)\n",
    "else:\n",
    "    print(\"Não foi possível criar o Dataframe.\")"
   ]
  },
  {
   "cell_type": "markdown",
   "metadata": {
    "application/vnd.databricks.v1+cell": {
     "cellMetadata": {
      "byteLimit": 2048000,
      "rowLimit": 10000
     },
     "inputWidgets": {},
     "nuid": "a4143eb9-5a10-4d68-a3d9-80144060d983",
     "showTitle": false,
     "title": ""
    }
   },
   "source": [
    "Verificação de qualidade"
   ]
  },
  {
   "cell_type": "code",
   "execution_count": 0,
   "metadata": {
    "application/vnd.databricks.v1+cell": {
     "cellMetadata": {
      "byteLimit": 2048000,
      "rowLimit": 10000
     },
     "inputWidgets": {},
     "nuid": "c42810d0-1a2a-4f59-b698-ff88646ffc77",
     "showTitle": false,
     "title": ""
    }
   },
   "outputs": [
    {
     "output_type": "stream",
     "name": "stdout",
     "output_type": "stream",
     "text": [
      "Out[7]: [('CHANGEDAT', 'string'),\n ('CHANGEDBY', 'string'),\n ('CREATEDAT', 'string'),\n ('CREATEDBY', 'string'),\n ('CURRENCY', 'string'),\n ('DEPTH', 'string'),\n ('DIMENSIONUNIT', 'string'),\n ('HEIGHT', 'string'),\n ('PRICE', 'string'),\n ('PRODCATEGORYID', 'string'),\n ('PRODUCTID', 'string'),\n ('PRODUCTPICURL', 'string'),\n ('QUANTITYUNIT', 'string'),\n ('SUPPLIER_PARTNERID', 'string'),\n ('TAXTARIFFCODE', 'string'),\n ('TYPECODE', 'string'),\n ('WEIGHTMEASURE', 'string'),\n ('WEIGHTUNIT', 'string'),\n ('WIDTH', 'string')]"
     ]
    }
   ],
   "source": [
    "df.dtypes"
   ]
  },
  {
   "cell_type": "code",
   "execution_count": 0,
   "metadata": {
    "application/vnd.databricks.v1+cell": {
     "cellMetadata": {},
     "inputWidgets": {},
     "nuid": "958c0c93-aa5f-45df-b171-997a87682e86",
     "showTitle": false,
     "title": ""
    }
   },
   "outputs": [],
   "source": [
    " 'CHANGEDAT',\n",
    " 'CHANGEDBY',\n",
    " 'CREATEDAT',\n",
    " 'CREATEDBY',\n",
    " 'CURRENCY',\n",
    " 'DEPTH',\n",
    " 'DIMENSIONUNIT',\n",
    " 'HEIGHT',\n",
    " 'PRICE',\n",
    " 'PRODCATEGORYID',\n",
    " 'PRODUCTID',\n",
    " 'PRODUCTPICURL',\n",
    " 'QUANTITYUNIT',\n",
    " 'SUPPLIER_PARTNERID',\n",
    " 'TAXTARIFFCODE',\n",
    " 'TYPECODE',\n",
    " 'WEIGHTMEASURE',\n",
    " 'WEIGHTUNIT',\n",
    " 'WIDTH'"
   ]
  },
  {
   "cell_type": "code",
   "execution_count": 0,
   "metadata": {
    "application/vnd.databricks.v1+cell": {
     "cellMetadata": {
      "byteLimit": 2048000,
      "rowLimit": 10000
     },
     "inputWidgets": {},
     "nuid": "e49544f0-7db9-412d-afac-dfbef7a01912",
     "showTitle": false,
     "title": ""
    }
   },
   "outputs": [],
   "source": [
    "df_ge = ge.dataset.SparkDFDataset(df)\n"
   ]
  },
  {
   "cell_type": "code",
   "execution_count": 0,
   "metadata": {
    "application/vnd.databricks.v1+cell": {
     "cellMetadata": {
      "byteLimit": 2048000,
      "rowLimit": 10000
     },
     "inputWidgets": {},
     "nuid": "6676ba6a-1eae-4cce-ad79-770ae68d9d84",
     "showTitle": false,
     "title": ""
    }
   },
   "outputs": [
    {
     "output_type": "stream",
     "name": "stdout",
     "output_type": "stream",
     "text": [
      "Arquivo Ok!\n"
     ]
    }
   ],
   "source": [
    "\n",
    "#Expectativa: Verifica a presença das colunas esperadas\n",
    "colunas_esperadas = [ 'CHANGEDAT',\n",
    " 'CHANGEDBY',\n",
    " 'CREATEDAT',\n",
    " 'CREATEDBY',\n",
    " 'CURRENCY',\n",
    " 'DEPTH',\n",
    " 'DIMENSIONUNIT',\n",
    " 'HEIGHT',\n",
    " 'PRICE',\n",
    " 'PRODCATEGORYID',\n",
    " 'PRODUCTID',\n",
    " 'PRODUCTPICURL',\n",
    " 'QUANTITYUNIT',\n",
    " 'SUPPLIER_PARTNERID',\n",
    " 'TAXTARIFFCODE',\n",
    " 'TYPECODE',\n",
    " 'WEIGHTMEASURE',\n",
    " 'WEIGHTUNIT',\n",
    " 'WIDTH']\n",
    "\n",
    "expectativa_colunas = df_ge.expect_table_columns_to_match_ordered_list(column_list=colunas_esperadas)\n",
    "\n",
    "#validar as expectativas\n",
    "resultado_validacao = df_ge.validate()\n",
    "\n",
    "#verifica o resultado\n",
    "if resultado_validacao['success']:\n",
    "    print('Arquivo Ok!')\n",
    "else:\n",
    "    print('Erro na validação!')"
   ]
  },
  {
   "cell_type": "code",
   "execution_count": 0,
   "metadata": {
    "application/vnd.databricks.v1+cell": {
     "cellMetadata": {
      "byteLimit": 2048000,
      "rowLimit": 10000
     },
     "inputWidgets": {},
     "nuid": "92460061-5e2e-4ed2-a976-9eec3278bd7e",
     "showTitle": false,
     "title": ""
    }
   },
   "outputs": [],
   "source": [
    "tmp_delta_path = \"/tmp/transient/tb_fat_products_1\"\n",
    "df.write.format(\"parquet\").mode(\"overwrite\").save(tmp_delta_path)"
   ]
  }
 ],
 "metadata": {
  "application/vnd.databricks.v1+notebook": {
   "dashboards": [],
   "environmentMetadata": null,
   "language": "python",
   "notebookMetadata": {
    "pythonIndentUnit": 4
   },
   "notebookName": "source_to_transient - vendas - SAP - tb_fat_products",
   "widgets": {}
  }
 },
 "nbformat": 4,
 "nbformat_minor": 0
}
